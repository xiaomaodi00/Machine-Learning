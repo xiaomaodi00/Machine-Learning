{
 "cells": [
  {
   "cell_type": "markdown",
   "metadata": {},
   "source": [
    "# 导入所需要的包"
   ]
  },
  {
   "cell_type": "code",
   "execution_count": 20,
   "metadata": {},
   "outputs": [],
   "source": [
    "import numpy as np    # Python中进行数值计算的库\n",
    "import pandas as pd    # Python中进行数据处理的库\n",
    "import warnings\n",
    "warnings.filterwarnings('ignore') #  忽略弹出的warnings"
   ]
  },
  {
   "cell_type": "markdown",
   "metadata": {},
   "source": [
    "# 读数据"
   ]
  },
  {
   "cell_type": "code",
   "execution_count": null,
   "metadata": {},
   "outputs": [],
   "source": [
    "data = pd.read_csv('Lending_Club.csv',encoding=\"ISO-8859-1\")#这里注意，一定要把encoding设置为ISO-8859-1"
   ]
  },
  {
   "cell_type": "code",
   "execution_count": 22,
   "metadata": {},
   "outputs": [
    {
     "data": {
      "text/plain": [
       "(130772, 145)"
      ]
     },
     "execution_count": 22,
     "metadata": {},
     "output_type": "execute_result"
    }
   ],
   "source": [
    "data.shape #查看数据量大小"
   ]
  },
  {
   "cell_type": "code",
   "execution_count": 23,
   "metadata": {},
   "outputs": [
    {
     "data": {
      "text/html": [
       "<div>\n",
       "<style scoped>\n",
       "    .dataframe tbody tr th:only-of-type {\n",
       "        vertical-align: middle;\n",
       "    }\n",
       "\n",
       "    .dataframe tbody tr th {\n",
       "        vertical-align: top;\n",
       "    }\n",
       "\n",
       "    .dataframe thead th {\n",
       "        text-align: right;\n",
       "    }\n",
       "</style>\n",
       "<table border=\"1\" class=\"dataframe\">\n",
       "  <thead>\n",
       "    <tr style=\"text-align: right;\">\n",
       "      <th></th>\n",
       "      <th>id</th>\n",
       "      <th>member_id</th>\n",
       "      <th>loan_amnt</th>\n",
       "      <th>funded_amnt</th>\n",
       "      <th>funded_amnt_inv</th>\n",
       "      <th>term</th>\n",
       "      <th>int_rate</th>\n",
       "      <th>installment</th>\n",
       "      <th>grade</th>\n",
       "      <th>sub_grade</th>\n",
       "      <th>...</th>\n",
       "      <th>hardship_payoff_balance_amount</th>\n",
       "      <th>hardship_last_payment_amount</th>\n",
       "      <th>disbursement_method</th>\n",
       "      <th>debt_settlement_flag</th>\n",
       "      <th>debt_settlement_flag_date</th>\n",
       "      <th>settlement_status</th>\n",
       "      <th>settlement_date</th>\n",
       "      <th>settlement_amount</th>\n",
       "      <th>settlement_percentage</th>\n",
       "      <th>settlement_term</th>\n",
       "    </tr>\n",
       "  </thead>\n",
       "  <tbody>\n",
       "    <tr>\n",
       "      <th>0</th>\n",
       "      <td>NaN</td>\n",
       "      <td>NaN</td>\n",
       "      <td>10000</td>\n",
       "      <td>10000</td>\n",
       "      <td>10000</td>\n",
       "      <td>36 months</td>\n",
       "      <td>0.2039</td>\n",
       "      <td>373.63</td>\n",
       "      <td>D</td>\n",
       "      <td>D4</td>\n",
       "      <td>...</td>\n",
       "      <td>NaN</td>\n",
       "      <td>NaN</td>\n",
       "      <td>Cash</td>\n",
       "      <td>N</td>\n",
       "      <td>NaN</td>\n",
       "      <td>NaN</td>\n",
       "      <td>NaN</td>\n",
       "      <td>NaN</td>\n",
       "      <td>NaN</td>\n",
       "      <td>NaN</td>\n",
       "    </tr>\n",
       "    <tr>\n",
       "      <th>1</th>\n",
       "      <td>NaN</td>\n",
       "      <td>NaN</td>\n",
       "      <td>8000</td>\n",
       "      <td>8000</td>\n",
       "      <td>8000</td>\n",
       "      <td>36 months</td>\n",
       "      <td>0.0683</td>\n",
       "      <td>246.40</td>\n",
       "      <td>A</td>\n",
       "      <td>A3</td>\n",
       "      <td>...</td>\n",
       "      <td>NaN</td>\n",
       "      <td>NaN</td>\n",
       "      <td>Cash</td>\n",
       "      <td>N</td>\n",
       "      <td>NaN</td>\n",
       "      <td>NaN</td>\n",
       "      <td>NaN</td>\n",
       "      <td>NaN</td>\n",
       "      <td>NaN</td>\n",
       "      <td>NaN</td>\n",
       "    </tr>\n",
       "    <tr>\n",
       "      <th>2</th>\n",
       "      <td>NaN</td>\n",
       "      <td>NaN</td>\n",
       "      <td>20000</td>\n",
       "      <td>20000</td>\n",
       "      <td>20000</td>\n",
       "      <td>60 months</td>\n",
       "      <td>0.0683</td>\n",
       "      <td>394.43</td>\n",
       "      <td>A</td>\n",
       "      <td>A3</td>\n",
       "      <td>...</td>\n",
       "      <td>NaN</td>\n",
       "      <td>NaN</td>\n",
       "      <td>DirectPay</td>\n",
       "      <td>N</td>\n",
       "      <td>NaN</td>\n",
       "      <td>NaN</td>\n",
       "      <td>NaN</td>\n",
       "      <td>NaN</td>\n",
       "      <td>NaN</td>\n",
       "      <td>NaN</td>\n",
       "    </tr>\n",
       "    <tr>\n",
       "      <th>3</th>\n",
       "      <td>NaN</td>\n",
       "      <td>NaN</td>\n",
       "      <td>16000</td>\n",
       "      <td>16000</td>\n",
       "      <td>16000</td>\n",
       "      <td>36 months</td>\n",
       "      <td>0.1403</td>\n",
       "      <td>547.08</td>\n",
       "      <td>C</td>\n",
       "      <td>C2</td>\n",
       "      <td>...</td>\n",
       "      <td>NaN</td>\n",
       "      <td>NaN</td>\n",
       "      <td>Cash</td>\n",
       "      <td>N</td>\n",
       "      <td>NaN</td>\n",
       "      <td>NaN</td>\n",
       "      <td>NaN</td>\n",
       "      <td>NaN</td>\n",
       "      <td>NaN</td>\n",
       "      <td>NaN</td>\n",
       "    </tr>\n",
       "  </tbody>\n",
       "</table>\n",
       "<p>4 rows × 145 columns</p>\n",
       "</div>"
      ],
      "text/plain": [
       "   id  member_id  loan_amnt  funded_amnt  funded_amnt_inv        term  \\\n",
       "0 NaN        NaN      10000        10000            10000   36 months   \n",
       "1 NaN        NaN       8000         8000             8000   36 months   \n",
       "2 NaN        NaN      20000        20000            20000   60 months   \n",
       "3 NaN        NaN      16000        16000            16000   36 months   \n",
       "\n",
       "   int_rate  installment grade sub_grade       ...         \\\n",
       "0    0.2039       373.63     D        D4       ...          \n",
       "1    0.0683       246.40     A        A3       ...          \n",
       "2    0.0683       394.43     A        A3       ...          \n",
       "3    0.1403       547.08     C        C2       ...          \n",
       "\n",
       "  hardship_payoff_balance_amount hardship_last_payment_amount  \\\n",
       "0                            NaN                          NaN   \n",
       "1                            NaN                          NaN   \n",
       "2                            NaN                          NaN   \n",
       "3                            NaN                          NaN   \n",
       "\n",
       "  disbursement_method  debt_settlement_flag debt_settlement_flag_date  \\\n",
       "0                Cash                     N                       NaN   \n",
       "1                Cash                     N                       NaN   \n",
       "2           DirectPay                     N                       NaN   \n",
       "3                Cash                     N                       NaN   \n",
       "\n",
       "  settlement_status settlement_date settlement_amount  settlement_percentage  \\\n",
       "0               NaN             NaN               NaN                    NaN   \n",
       "1               NaN             NaN               NaN                    NaN   \n",
       "2               NaN             NaN               NaN                    NaN   \n",
       "3               NaN             NaN               NaN                    NaN   \n",
       "\n",
       "   settlement_term  \n",
       "0              NaN  \n",
       "1              NaN  \n",
       "2              NaN  \n",
       "3              NaN  \n",
       "\n",
       "[4 rows x 145 columns]"
      ]
     },
     "execution_count": 23,
     "metadata": {},
     "output_type": "execute_result"
    }
   ],
   "source": [
    "#查看部分数据\n",
    "data.head(4)#可以看出有很多确实值"
   ]
  },
  {
   "cell_type": "markdown",
   "metadata": {},
   "source": [
    "# 查看数据集缺失情况"
   ]
  },
  {
   "cell_type": "code",
   "execution_count": 24,
   "metadata": {
    "scrolled": false
   },
   "outputs": [
    {
     "data": {
      "text/html": [
       "<div>\n",
       "<style scoped>\n",
       "    .dataframe tbody tr th:only-of-type {\n",
       "        vertical-align: middle;\n",
       "    }\n",
       "\n",
       "    .dataframe tbody tr th {\n",
       "        vertical-align: top;\n",
       "    }\n",
       "\n",
       "    .dataframe thead th {\n",
       "        text-align: right;\n",
       "    }\n",
       "</style>\n",
       "<table border=\"1\" class=\"dataframe\">\n",
       "  <thead>\n",
       "    <tr style=\"text-align: right;\">\n",
       "      <th></th>\n",
       "      <th>feature</th>\n",
       "      <th>miss_num</th>\n",
       "      <th>miss_percentage</th>\n",
       "    </tr>\n",
       "  </thead>\n",
       "  <tbody>\n",
       "    <tr>\n",
       "      <th>0</th>\n",
       "      <td>settlement_term</td>\n",
       "      <td>130772</td>\n",
       "      <td>1.0</td>\n",
       "    </tr>\n",
       "    <tr>\n",
       "      <th>1</th>\n",
       "      <td>payment_plan_start_date</td>\n",
       "      <td>130772</td>\n",
       "      <td>1.0</td>\n",
       "    </tr>\n",
       "    <tr>\n",
       "      <th>2</th>\n",
       "      <td>member_id</td>\n",
       "      <td>130772</td>\n",
       "      <td>1.0</td>\n",
       "    </tr>\n",
       "    <tr>\n",
       "      <th>3</th>\n",
       "      <td>url</td>\n",
       "      <td>130772</td>\n",
       "      <td>1.0</td>\n",
       "    </tr>\n",
       "    <tr>\n",
       "      <th>4</th>\n",
       "      <td>desc</td>\n",
       "      <td>130772</td>\n",
       "      <td>1.0</td>\n",
       "    </tr>\n",
       "    <tr>\n",
       "      <th>5</th>\n",
       "      <td>settlement_percentage</td>\n",
       "      <td>130772</td>\n",
       "      <td>1.0</td>\n",
       "    </tr>\n",
       "    <tr>\n",
       "      <th>6</th>\n",
       "      <td>hardship_type</td>\n",
       "      <td>130772</td>\n",
       "      <td>1.0</td>\n",
       "    </tr>\n",
       "    <tr>\n",
       "      <th>7</th>\n",
       "      <td>hardship_reason</td>\n",
       "      <td>130772</td>\n",
       "      <td>1.0</td>\n",
       "    </tr>\n",
       "    <tr>\n",
       "      <th>8</th>\n",
       "      <td>hardship_status</td>\n",
       "      <td>130772</td>\n",
       "      <td>1.0</td>\n",
       "    </tr>\n",
       "    <tr>\n",
       "      <th>9</th>\n",
       "      <td>deferral_term</td>\n",
       "      <td>130772</td>\n",
       "      <td>1.0</td>\n",
       "    </tr>\n",
       "  </tbody>\n",
       "</table>\n",
       "</div>"
      ],
      "text/plain": [
       "                   feature  miss_num  miss_percentage\n",
       "0          settlement_term    130772              1.0\n",
       "1  payment_plan_start_date    130772              1.0\n",
       "2                member_id    130772              1.0\n",
       "3                      url    130772              1.0\n",
       "4                     desc    130772              1.0\n",
       "5    settlement_percentage    130772              1.0\n",
       "6            hardship_type    130772              1.0\n",
       "7          hardship_reason    130772              1.0\n",
       "8          hardship_status    130772              1.0\n",
       "9            deferral_term    130772              1.0"
      ]
     },
     "execution_count": 24,
     "metadata": {},
     "output_type": "execute_result"
    }
   ],
   "source": [
    "### 查看数据集缺失情况\n",
    "missingDf = data.isnull().sum().sort_values(ascending=False).reset_index()#常用的数据缺失值查看方法，ascending=False是降序排列\n",
    "missingDf.columns = ['feature', 'miss_num']    \n",
    "missingDf['miss_percentage'] = missingDf['miss_num'] / data.shape[0]    # 缺失值比例\n",
    "missingDf.head(10)    # 缺失值最多的前十列特征"
   ]
  },
  {
   "cell_type": "code",
   "execution_count": 6,
   "metadata": {},
   "outputs": [
    {
     "name": "stdout",
     "output_type": "stream",
     "text": [
      "原始数据集144列特征中:\n",
      "\n",
      "有60列特征含有缺失值\n",
      "有43列的特征缺失值比例在30%以上\n"
     ]
    }
   ],
   "source": [
    "print(\"原始数据集144列特征中:\\n\" )\n",
    "print(\"有%d列特征含有缺失值\" % missingDf[missingDf['miss_num'] > 0].shape[0])\n",
    "print(\"有%d列的特征缺失值比例在30%%以上\" % missingDf[missingDf['miss_percentage'] > 0.3].shape[0])"
   ]
  },
  {
   "cell_type": "markdown",
   "metadata": {},
   "source": [
    "# 缺失值处理\n",
    "  1：直接删除缺失值过多的特征或样本\n",
    "  2：对缺失值进行填充，一般使用平均值或者最大最小值\n",
    "  3：用其他未缺失的样本对缺失的样本特征进行预测"
   ]
  },
  {
   "cell_type": "markdown",
   "metadata": {},
   "source": [
    "1、直接删除"
   ]
  },
  {
   "cell_type": "code",
   "execution_count": 7,
   "metadata": {},
   "outputs": [
    {
     "name": "stdout",
     "output_type": "stream",
     "text": [
      "去除掉缺失值占比大于0.3的特征之后,当前还剩102列特征\n"
     ]
    }
   ],
   "source": [
    "thr = (1 - 0.3) * data.shape[0]  # 可以根据实际情况设定不同阈值, 此处设为30%, 则非缺失值的数量大于70%\n",
    "data = data.dropna(thresh=thr, axis=1)     #若某一列数据缺失的数量超过阀值就会被删除\n",
    "print(\"去除掉缺失值占比大于0.3的特征之后,当前还剩%d列特征\" %(data.shape[1]))"
   ]
  },
  {
   "cell_type": "code",
   "execution_count": 213,
   "metadata": {},
   "outputs": [
    {
     "name": "stdout",
     "output_type": "stream",
     "text": [
      "0     63753\n",
      "1     41794\n",
      "2     12719\n",
      "3      6714\n",
      "4      3483\n",
      "5      1439\n",
      "6       551\n",
      "7       205\n",
      "8        65\n",
      "9        21\n",
      "10       18\n",
      "11        9\n",
      "13        1\n",
      "Name: row_missing, dtype: int64\n"
     ]
    }
   ],
   "source": [
    "### 缺失特征过多的样本可以考虑直接整行删除\n",
    "data['row_missing'] = data.apply(lambda x: x.isnull().sum(), axis=1).to_frame()     # 计算每条样本的缺失值列数\n",
    "print(data['row_missing'].value_counts())    # 观察所有样本行的缺失值情况"
   ]
  },
  {
   "cell_type": "markdown",
   "metadata": {},
   "source": [
    "缺失列数在8列以上的样本有114条，缺失值较多且样本数较少，因此可以考虑将这些样本直接删除。"
   ]
  },
  {
   "cell_type": "code",
   "execution_count": 214,
   "metadata": {},
   "outputs": [
    {
     "name": "stdout",
     "output_type": "stream",
     "text": [
      "去除掉缺失特征大于35列的样本之后，当前还剩130658行数据\n"
     ]
    }
   ],
   "source": [
    "data = data[data['row_missing'] < 8]       # 删掉缺失值大于等于8列的样本\n",
    "data.drop(['row_missing'], axis=1, inplace=True)    # 删掉刚刚加入原始数据集的统计列\n",
    "print(\"去除掉缺失特征大于35列的样本之后，当前还剩%d行数据\" % data.shape[0])"
   ]
  },
  {
   "cell_type": "markdown",
   "metadata": {},
   "source": [
    "2.使用固定值进行填充"
   ]
  },
  {
   "cell_type": "code",
   "execution_count": 215,
   "metadata": {},
   "outputs": [
    {
     "data": {
      "text/html": [
       "<div>\n",
       "<style scoped>\n",
       "    .dataframe tbody tr th:only-of-type {\n",
       "        vertical-align: middle;\n",
       "    }\n",
       "\n",
       "    .dataframe tbody tr th {\n",
       "        vertical-align: top;\n",
       "    }\n",
       "\n",
       "    .dataframe thead th {\n",
       "        text-align: right;\n",
       "    }\n",
       "</style>\n",
       "<table border=\"1\" class=\"dataframe\">\n",
       "  <thead>\n",
       "    <tr style=\"text-align: right;\">\n",
       "      <th></th>\n",
       "      <th>index</th>\n",
       "      <th>0</th>\n",
       "    </tr>\n",
       "  </thead>\n",
       "  <tbody>\n",
       "    <tr>\n",
       "      <th>0</th>\n",
       "      <td>last_pymnt_d</td>\n",
       "      <td>32834</td>\n",
       "    </tr>\n",
       "    <tr>\n",
       "      <th>1</th>\n",
       "      <td>il_util</td>\n",
       "      <td>21951</td>\n",
       "    </tr>\n",
       "    <tr>\n",
       "      <th>2</th>\n",
       "      <td>mths_since_recent_inq</td>\n",
       "      <td>15514</td>\n",
       "    </tr>\n",
       "    <tr>\n",
       "      <th>3</th>\n",
       "      <td>emp_title</td>\n",
       "      <td>10578</td>\n",
       "    </tr>\n",
       "    <tr>\n",
       "      <th>4</th>\n",
       "      <td>emp_length</td>\n",
       "      <td>10385</td>\n",
       "    </tr>\n",
       "    <tr>\n",
       "      <th>...</th>\n",
       "      <td>...</td>\n",
       "      <td>...</td>\n",
       "    </tr>\n",
       "    <tr>\n",
       "      <th>97</th>\n",
       "      <td>chargeoff_within_12_mths</td>\n",
       "      <td>0</td>\n",
       "    </tr>\n",
       "    <tr>\n",
       "      <th>98</th>\n",
       "      <td>delinq_amnt</td>\n",
       "      <td>0</td>\n",
       "    </tr>\n",
       "    <tr>\n",
       "      <th>99</th>\n",
       "      <td>mo_sin_old_rev_tl_op</td>\n",
       "      <td>0</td>\n",
       "    </tr>\n",
       "    <tr>\n",
       "      <th>100</th>\n",
       "      <td>mo_sin_rcnt_rev_tl_op</td>\n",
       "      <td>0</td>\n",
       "    </tr>\n",
       "    <tr>\n",
       "      <th>101</th>\n",
       "      <td>loan_amnt</td>\n",
       "      <td>0</td>\n",
       "    </tr>\n",
       "  </tbody>\n",
       "</table>\n",
       "<p>102 rows × 2 columns</p>\n",
       "</div>"
      ],
      "text/plain": [
       "                        index      0\n",
       "0                last_pymnt_d  32834\n",
       "1                     il_util  21951\n",
       "2       mths_since_recent_inq  15514\n",
       "3                   emp_title  10578\n",
       "4                  emp_length  10385\n",
       "..                        ...    ...\n",
       "97   chargeoff_within_12_mths      0\n",
       "98                delinq_amnt      0\n",
       "99       mo_sin_old_rev_tl_op      0\n",
       "100     mo_sin_rcnt_rev_tl_op      0\n",
       "101                 loan_amnt      0\n",
       "\n",
       "[102 rows x 2 columns]"
      ]
     },
     "execution_count": 215,
     "metadata": {},
     "output_type": "execute_result"
    }
   ],
   "source": [
    "data.isnull().sum().sort_values(ascending=False).reset_index()"
   ]
  },
  {
   "cell_type": "markdown",
   "metadata": {},
   "source": [
    "以emp_length这列特征为例，它代表贷款客户的工作年限，统计可知其中有10385条缺失值，原始数据集中用'n/a'表示。"
   ]
  },
  {
   "cell_type": "code",
   "execution_count": 216,
   "metadata": {},
   "outputs": [
    {
     "name": "stdout",
     "output_type": "stream",
     "text": [
      "原始数据集的emp_length特征取值情况：\n",
      " 10+ years    43802\n",
      "2 years      12290\n",
      "3 years      10865\n",
      "< 1 year      8894\n",
      "1 year        8635\n",
      "4 years       8631\n",
      "5 years       8199\n",
      "6 years       6088\n",
      "7 years       4955\n",
      "8 years       4334\n",
      "9 years       3580\n",
      "Name: emp_length, dtype: int64\n",
      "\n",
      "使用固定值填充后emp_length特征取值情况：\n",
      " 10+ years    43802\n",
      "2 years      12290\n",
      "3 years      10865\n",
      "< 1 year      8894\n",
      "1 year        8635\n",
      "4 years       8631\n",
      "5 years       8199\n",
      "6 years       6088\n",
      "7 years       4955\n",
      "8 years       4334\n",
      "9 years       3580\n",
      "Name: emp_length, dtype: int64\n"
     ]
    }
   ],
   "source": [
    "### 特征emp_length中的缺失值可以尝试用特殊字符表示，代表独立的一类特征值。\n",
    "print(\"原始数据集的emp_length特征取值情况：\\n\", data['emp_length'].value_counts())\n",
    "data.loc[data['emp_length']=='', 'emp_ln/aength'] = 'Unknown'    # 将emp_length特征列中的缺失值替换为特殊字符'Unknown'\n",
    "print(\"\\n使用固定值填充后emp_length特征取值情况：\\n\", data['emp_length'].value_counts())"
   ]
  },
  {
   "cell_type": "markdown",
   "metadata": {},
   "source": [
    "数值特征通常采用其他样本的均值或中位数进行填充。以dti为例，它代表贷款人每月还款占其收入的比例（去掉百分号后的值），观察其统计信息。可知该列最大值为999.000000，很明显这是一个极大的异常值，如果对该列采用均值进行填充，会受到极端值的影响，故此处选用中位数进行填充。当然，这种简单的方法还有提升的空间，例如像dti这种特征可以结合贷款人的收入水平（annual_inc）进行先分组后填充。"
   ]
  },
  {
   "cell_type": "code",
   "execution_count": 217,
   "metadata": {},
   "outputs": [
    {
     "name": "stdout",
     "output_type": "stream",
     "text": [
      "dti特征列有317个缺失值\n",
      "\n",
      "dti特征列的统计信息:\n",
      " count    130341.000000\n",
      "mean         19.296477\n",
      "std          19.480767\n",
      "min           0.000000\n",
      "25%          11.100000\n",
      "50%          17.390000\n",
      "75%          24.730000\n",
      "max         999.000000\n",
      "Name: dti, dtype: float64\n",
      "\n",
      "填充中位数后dti特征列的统计信息:\n",
      " count    130658.000000\n",
      "mean         19.291851\n",
      "std          19.457347\n",
      "min           0.000000\n",
      "25%          11.110000\n",
      "50%          17.390000\n",
      "75%          24.717500\n",
      "max         999.000000\n",
      "Name: dti, dtype: float64\n",
      "\n",
      "此时dti特征列有0个缺失值\n",
      "\n"
     ]
    }
   ],
   "source": [
    "### dti属性是数值特征，可以使用均值或中位数进行填充\n",
    "print(\"dti特征列有%d个缺失值\\n\" % data['dti'].isnull().sum())\n",
    "print(\"dti特征列的统计信息:\\n\", data['dti'].describe())\n",
    "data['dti'].fillna(data['dti'].median(), inplace=True)    # 这里median()采用中位数填充,也可以使用均值mean()\n",
    "print(\"\\n填充中位数后dti特征列的统计信息:\\n\", data['dti'].describe())\n",
    "print(\"\\n此时dti特征列有%d个缺失值\\n\" % data['dti'].isnull().sum())"
   ]
  },
  {
   "cell_type": "markdown",
   "metadata": {},
   "source": [
    "3、建模预测缺失值并填充"
   ]
  },
  {
   "cell_type": "code",
   "execution_count": 218,
   "metadata": {},
   "outputs": [],
   "source": [
    "### 以revol_util(信用账户的使用率)特征为例，导入sklearn的随机森林算法预测缺失值\n",
    "from sklearn.ensemble import RandomForestRegressor    \n",
    "\n",
    "rfDf = data.copy()\n",
    "# 用revol_util特征值非空的样本构建训练集，revol_util特征值缺失的样本构建测试集\n",
    "rfDf_train = rfDf.loc[rfDf['revol_util'].notnull()]\n",
    "rfDf_test = rfDf.loc[rfDf['revol_util'].isnull()]"
   ]
  },
  {
   "cell_type": "code",
   "execution_count": 219,
   "metadata": {},
   "outputs": [
    {
     "data": {
      "text/html": [
       "<div>\n",
       "<style scoped>\n",
       "    .dataframe tbody tr th:only-of-type {\n",
       "        vertical-align: middle;\n",
       "    }\n",
       "\n",
       "    .dataframe tbody tr th {\n",
       "        vertical-align: top;\n",
       "    }\n",
       "\n",
       "    .dataframe thead th {\n",
       "        text-align: right;\n",
       "    }\n",
       "</style>\n",
       "<table border=\"1\" class=\"dataframe\">\n",
       "  <thead>\n",
       "    <tr style=\"text-align: right;\">\n",
       "      <th></th>\n",
       "      <th>index</th>\n",
       "      <th>0</th>\n",
       "    </tr>\n",
       "  </thead>\n",
       "  <tbody>\n",
       "    <tr>\n",
       "      <th>0</th>\n",
       "      <td>loan_amnt</td>\n",
       "      <td>130528</td>\n",
       "    </tr>\n",
       "    <tr>\n",
       "      <th>1</th>\n",
       "      <td>funded_amnt</td>\n",
       "      <td>130528</td>\n",
       "    </tr>\n",
       "    <tr>\n",
       "      <th>2</th>\n",
       "      <td>funded_amnt_inv</td>\n",
       "      <td>130528</td>\n",
       "    </tr>\n",
       "    <tr>\n",
       "      <th>3</th>\n",
       "      <td>term</td>\n",
       "      <td>130528</td>\n",
       "    </tr>\n",
       "    <tr>\n",
       "      <th>4</th>\n",
       "      <td>int_rate</td>\n",
       "      <td>130528</td>\n",
       "    </tr>\n",
       "    <tr>\n",
       "      <th>...</th>\n",
       "      <td>...</td>\n",
       "      <td>...</td>\n",
       "    </tr>\n",
       "    <tr>\n",
       "      <th>98</th>\n",
       "      <td>total_il_high_credit_limit</td>\n",
       "      <td>130528</td>\n",
       "    </tr>\n",
       "    <tr>\n",
       "      <th>99</th>\n",
       "      <td>hardship_flag</td>\n",
       "      <td>130528</td>\n",
       "    </tr>\n",
       "    <tr>\n",
       "      <th>100</th>\n",
       "      <td>disbursement_method</td>\n",
       "      <td>130528</td>\n",
       "    </tr>\n",
       "    <tr>\n",
       "      <th>101</th>\n",
       "      <td>debt_settlement_flag</td>\n",
       "      <td>130528</td>\n",
       "    </tr>\n",
       "    <tr>\n",
       "      <th>102</th>\n",
       "      <td>emp_ln/aength</td>\n",
       "      <td>0</td>\n",
       "    </tr>\n",
       "  </tbody>\n",
       "</table>\n",
       "<p>103 rows × 2 columns</p>\n",
       "</div>"
      ],
      "text/plain": [
       "                          index       0\n",
       "0                     loan_amnt  130528\n",
       "1                   funded_amnt  130528\n",
       "2               funded_amnt_inv  130528\n",
       "3                          term  130528\n",
       "4                      int_rate  130528\n",
       "..                          ...     ...\n",
       "98   total_il_high_credit_limit  130528\n",
       "99                hardship_flag  130528\n",
       "100         disbursement_method  130528\n",
       "101        debt_settlement_flag  130528\n",
       "102               emp_ln/aength       0\n",
       "\n",
       "[103 rows x 2 columns]"
      ]
     },
     "execution_count": 219,
     "metadata": {},
     "output_type": "execute_result"
    }
   ],
   "source": [
    "rfDf_train.notnull().sum().reset_index()"
   ]
  },
  {
   "cell_type": "code",
   "execution_count": 220,
   "metadata": {},
   "outputs": [
    {
     "data": {
      "text/plain": [
       "loan_amnt                       int64\n",
       "funded_amnt                     int64\n",
       "funded_amnt_inv                 int64\n",
       "term                           object\n",
       "int_rate                      float64\n",
       "                               ...   \n",
       "total_il_high_credit_limit      int64\n",
       "hardship_flag                  object\n",
       "disbursement_method            object\n",
       "debt_settlement_flag           object\n",
       "emp_ln/aength                  object\n",
       "Length: 103, dtype: object"
      ]
     },
     "execution_count": 220,
     "metadata": {},
     "output_type": "execute_result"
    }
   ],
   "source": [
    "data.dtypes"
   ]
  },
  {
   "cell_type": "code",
   "execution_count": 221,
   "metadata": {},
   "outputs": [],
   "source": [
    "col = ['loan_amnt', 'int_rate', 'installment', 'revol_bal', 'collection_recovery_fee']    # 原始数据集中的无缺失数值特征\n",
    "# 划分训练数据和标签（label）\n",
    "X = rfDf_train[col]\n",
    "y = rfDf_train['revol_util']\n",
    "# 训练过程\n",
    "rf = RandomForestRegressor(n_estimators=100,n_jobs=-1)    # 这里重在理解过程，因此仅简单选取部分参数\n",
    "rf.fit(X, y)\n",
    "# 预测过程\n",
    "pred = rf.predict(rfDf_test[col])"
   ]
  },
  {
   "cell_type": "code",
   "execution_count": 222,
   "metadata": {},
   "outputs": [
    {
     "name": "stdout",
     "output_type": "stream",
     "text": [
      "此时的revol_util特征统计指标:\n",
      "\n",
      "count    130658.000000\n",
      "mean          0.433896\n",
      "std           0.250182\n",
      "min           0.000000\n",
      "25%           0.236000\n",
      "50%           0.416000\n",
      "75%           0.620000\n",
      "max           1.244000\n",
      "Name: revol_util, dtype: float64\n"
     ]
    }
   ],
   "source": [
    "rfDf.loc[(rfDf['revol_util'].isnull()), 'revol_util'] = pred    # 填补缺失值\n",
    "print(\"此时的revol_util特征统计指标:\\n\")\n",
    "print(rfDf['revol_util'].describe()) "
   ]
  },
  {
   "cell_type": "code",
   "execution_count": null,
   "metadata": {},
   "outputs": [],
   "source": []
  },
  {
   "cell_type": "markdown",
   "metadata": {},
   "source": [
    "# 异常值处理"
   ]
  },
  {
   "cell_type": "markdown",
   "metadata": {},
   "source": [
    "异常值是数据集中存在的非正常的值，也称为离群点。异常值有可能是不正确的“脏数据”，也可能是正确的异常数据，需要具体问题具体分析。例如：人的身高100m、人的体重60g是属于不正确的“脏数据”；"
   ]
  },
  {
   "cell_type": "markdown",
   "metadata": {},
   "source": [
    "异常值的处理异常值通常需要进行处理，否则在某些场景中会导致预测结果受到负面影响。处理方法通常有以下几种：\n",
    "\n",
    "1：直接删除异常样本：当异常值数量不多且易于判断时，可以直接删除。\n",
    "2：用均值替代异常样本\n",
    "3：视为缺失值：某些情况下，可以将异常值当成缺失值处理，利用缺失值的填充方法处理异常。\n",
    "\n",
    "对异常值的不同处理方法，下面我们采用Lending Club贷款数据集中的数据进行举例说明。"
   ]
  },
  {
   "cell_type": "markdown",
   "metadata": {},
   "source": [
    "1、异常值处理1--简单统计分析 & 删除异常值"
   ]
  },
  {
   "cell_type": "markdown",
   "metadata": {},
   "source": [
    "Lending Club贷款数据集中的revol_util特征为例，它表示信用账户的使用率（去掉百分号），因此容易理解这列特征的值不应超过100。观察到异常样本有1300条，占总样本的比例很小，可以将这些样本直接删除。"
   ]
  },
  {
   "cell_type": "code",
   "execution_count": 223,
   "metadata": {},
   "outputs": [
    {
     "name": "stdout",
     "output_type": "stream",
     "text": [
      "count    130658.000000\n",
      "mean          0.433896\n",
      "std           0.250182\n",
      "min           0.000000\n",
      "25%           0.236000\n",
      "50%           0.416000\n",
      "75%           0.620000\n",
      "max           1.244000\n",
      "Name: revol_util, dtype: float64\n"
     ]
    }
   ],
   "source": [
    "print(rfDf['revol_util'].describe())"
   ]
  },
  {
   "cell_type": "code",
   "execution_count": 224,
   "metadata": {},
   "outputs": [
    {
     "name": "stdout",
     "output_type": "stream",
     "text": [
      "revol_util特征列的异常样本数为:  197\n"
     ]
    }
   ],
   "source": [
    "print(\"revol_util特征列的异常样本数为: \", data[data['revol_util'] > 1].shape[0])\n",
    "data.drop(data[data['revol_util'] > 1].index, inplace = True)    # 根据索引删除样本"
   ]
  },
  {
   "cell_type": "markdown",
   "metadata": {},
   "source": [
    "2、异常值处理2--3σ原则 & 均值替代异常样本"
   ]
  },
  {
   "cell_type": "markdown",
   "metadata": {},
   "source": [
    "以dti特征为例，它表示贷款人每月还款占其收入的比例（去掉百分号后的值），容易理解这列特征的值不应超过100，将超过100的值视为无意义的异常值"
   ]
  },
  {
   "cell_type": "code",
   "execution_count": 225,
   "metadata": {},
   "outputs": [
    {
     "data": {
      "image/png": "[encoded data removed]",
      "text/plain": [
       "<Figure size 432x288 with 1 Axes>"
      ]
     },
     "metadata": {
      "needs_background": "light"
     },
     "output_type": "display_data"
    }
   ],
   "source": [
    "import seaborn as sns\n",
    "import matplotlib.pyplot as plt    # 可视化\n",
    "# 在Jupyter notebook里嵌入图片\n",
    "%matplotlib inline\n",
    "\n",
    "ax = sns.distplot(data['dti'],kde=True,hist=False)\n",
    "plt.show()"
   ]
  },
  {
   "cell_type": "code",
   "execution_count": 226,
   "metadata": {},
   "outputs": [
    {
     "data": {
      "image/png": "[encoded data removed]",
      "text/plain": [
       "<Figure size 432x288 with 1 Axes>"
      ]
     },
     "metadata": {
      "needs_background": "light"
     },
     "output_type": "display_data"
    }
   ],
   "source": [
    "# 去掉高于100的部分再次观察\n",
    "norDf = data[data['dti'] <= 100.0]\n",
    "sns.distplot(norDf['dti'],kde=True,hist=False)\n",
    "plt.show()"
   ]
  },
  {
   "cell_type": "markdown",
   "metadata": {},
   "source": [
    "可以观察到dti的分布近似于正态分布，根据实际情况分析：大部分贷款人dti小于40（即比例为40%），还款压力较小；而dti高的贷款人必然存在较大的还款压力，也因此有坏账的风险，这部分值也可以视为异常值，不过这部分异常值对模型预测是有意义的，因此予以保留。"
   ]
  },
  {
   "cell_type": "code",
   "execution_count": 227,
   "metadata": {},
   "outputs": [
    {
     "name": "stdout",
     "output_type": "stream",
     "text": [
      "大于 51.243700 的可以视为异常值\n",
      "小于 -13.951381 的可以视为异常值\n"
     ]
    }
   ],
   "source": [
    "# 根据3σ原则计算异常值区间\n",
    "dti_mean = norDf['dti'].mean()    # 计算均值\n",
    "dti_std = norDf['dti'].std()    # 计算方差\n",
    "print(\"大于 %f 的可以视为异常值\" % (dti_mean + 3*dti_std))\n",
    "print(\"小于 %f 的可以视为异常值\" % (dti_mean - 3*dti_std))"
   ]
  },
  {
   "cell_type": "markdown",
   "metadata": {},
   "source": [
    "将大于100的那部分dti值进行异常值处理，采用去掉这部分异常值的dti均值进行替代。"
   ]
  },
  {
   "cell_type": "code",
   "execution_count": 228,
   "metadata": {},
   "outputs": [
    {
     "name": "stdout",
     "output_type": "stream",
     "text": [
      "此时dti特征列还有0个大于100的特征值\n"
     ]
    }
   ],
   "source": [
    "data.loc[data['dti'] > 100, 'dti'] = dti_mean    # 均值替代\n",
    "print(\"此时dti特征列还有%d个大于100的特征值\" % (data[data['dti'] > 100]).shape[0])"
   ]
  },
  {
   "cell_type": "markdown",
   "metadata": {},
   "source": [
    "3、异常值处理3--箱型图 & 视为缺失值"
   ]
  },
  {
   "cell_type": "markdown",
   "metadata": {},
   "source": [
    "以annual_inc为例，它表示贷款人的年收入。"
   ]
  },
  {
   "cell_type": "code",
   "execution_count": 229,
   "metadata": {},
   "outputs": [
    {
     "data": {
      "image/png": "[encoded data removed]",
      "text/plain": [
       "<Figure size 1440x288 with 1 Axes>"
      ]
     },
     "metadata": {
      "needs_background": "light"
     },
     "output_type": "display_data"
    }
   ],
   "source": [
    "# 绘制箱型图分析\n",
    "bp_list = list(data['annual_inc'])\n",
    "\n",
    "plt.figure(figsize=(20,4)) # 建立图像\n",
    "plt.boxplot(bp_list, vert=False, flierprops = {\"marker\":\"o\",\"markerfacecolor\":\"steelblue\"})\n",
    "plt.show() # 展示箱型图"
   ]
  },
  {
   "cell_type": "code",
   "execution_count": 230,
   "metadata": {},
   "outputs": [
    {
     "data": {
      "text/plain": [
       "count    1.304610e+05\n",
       "mean     7.866600e+04\n",
       "std      8.751727e+04\n",
       "min      0.000000e+00\n",
       "25%      4.500000e+04\n",
       "50%      6.500000e+04\n",
       "75%      9.500000e+04\n",
       "max      9.930475e+06\n",
       "Name: annual_inc, dtype: float64"
      ]
     },
     "execution_count": 230,
     "metadata": {},
     "output_type": "execute_result"
    }
   ],
   "source": [
    "# 观察annual_inc列的统计值\n",
    "data['annual_inc'].describe()"
   ]
  },
  {
   "cell_type": "code",
   "execution_count": 231,
   "metadata": {},
   "outputs": [
    {
     "name": "stdout",
     "output_type": "stream",
     "text": [
      "箱型图上须： 170000.0\n",
      "箱型图下须： -30000.0\n"
     ]
    }
   ],
   "source": [
    "# 箱型图的边界\n",
    "q1 = data['annual_inc'].describe()['25%']\n",
    "q3 = data['annual_inc'].describe()['75%']\n",
    "iqr = q3 - q1\n",
    "print(\"箱型图上须：\", q3 + 1.5*iqr)\n",
    "print(\"箱型图下须：\", q1 - 1.5*iqr)"
   ]
  },
  {
   "cell_type": "markdown",
   "metadata": {},
   "source": [
    "由上述可见大多数贷款人的年收入都在150万以下，与Lending Club的主业中小额贷款也较为相符，可以将箱型图中的大于150万的异常值进行一定的处理。这里将其视为缺失值，采用固定值进行替代，统一定为150万。"
   ]
  },
  {
   "cell_type": "code",
   "execution_count": 232,
   "metadata": {},
   "outputs": [
    {
     "name": "stdout",
     "output_type": "stream",
     "text": [
      "此时annual_inc特征列还有0个大于150万的特征值\n"
     ]
    }
   ],
   "source": [
    "data.loc[data['annual_inc'] > 1500000.0, 'annual_inc'] = 1500000.0    # 固定值替代\n",
    "print(\"此时annual_inc特征列还有%d个大于150万的特征值\" % (data[data['annual_inc'] > 1500000.0]).shape[0])"
   ]
  },
  {
   "cell_type": "markdown",
   "metadata": {},
   "source": [
    "总结：\n",
    "本章节主要介绍了数据预处理中常见的两种问题--缺失值和异常值。我们利用Lending Club贷款数据集进行了两种问题的分析，并对两种问题提出了相对应的解决方法。其中对于缺失值，我们注意介绍了采用直接删除，数据填补和不处理三种方法进行处理。而异常值的处理我们注意介绍了：直接删除异常样本，用均值替代异常样本，视为缺失值这三种解决方法。"
   ]
  },
  {
   "cell_type": "code",
   "execution_count": null,
   "metadata": {},
   "outputs": [],
   "source": []
  }
 ],
 "metadata": {
  "kernelspec": {
   "display_name": "Python 3",
   "language": "python",
   "name": "python3"
  },
  "language_info": {
   "codemirror_mode": {
    "name": "ipython",
    "version": 3
   },
   "file_extension": ".py",
   "mimetype": "text/x-python",
   "name": "python",
   "nbconvert_exporter": "python",
   "pygments_lexer": "ipython3",
   "version": "3.7.0"
  }
 },
 "nbformat": 4,
 "nbformat_minor": 4
}
